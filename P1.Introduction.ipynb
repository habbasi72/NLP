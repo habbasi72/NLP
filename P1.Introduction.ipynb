{
 "cells": [
  {
   "cell_type": "code",
   "execution_count": 11,
   "metadata": {
    "collapsed": true
   },
   "outputs": [],
   "source": [
    "from nltk.tokenize import sent_tokenize, word_tokenize"
   ]
  },
  {
   "cell_type": "code",
   "execution_count": 23,
   "metadata": {
    "collapsed": false
   },
   "outputs": [],
   "source": [
    "#Installing some of the components for NLTK(Only Once!)\n",
    "#nltk.download()"
   ]
  },
  {
   "cell_type": "markdown",
   "metadata": {},
   "source": [
    "<p><H3>Some Experessions:</H3></p>\n",
    "<li><b>Tokenizing: </b><em>word / sentence tokenizing</em></li>\n",
    "<li><b>Corpora: </b><em> Body of text , like science journal , speech etc</em></li>\n",
    "<li><b>Lexicon: </b><em>dictionary (words and their meaning)</em></li>"
   ]
  },
  {
   "cell_type": "code",
   "execution_count": 13,
   "metadata": {
    "collapsed": true
   },
   "outputs": [],
   "source": [
    "example_text = \"Hello Mr. Smith, how are you doing today? The weather is great, and Python is awesome. The sky is pinkish-blue. You shouldn't eat cardboard.\""
   ]
  },
  {
   "cell_type": "code",
   "execution_count": 14,
   "metadata": {
    "collapsed": false,
    "scrolled": true
   },
   "outputs": [
    {
     "name": "stdout",
     "output_type": "stream",
     "text": [
      "['Hello Mr. Smith, how are you doing today?', 'The weather is great, and Python is awesome.', 'The sky is pinkish-blue.', \"You shouldn't eat cardboard.\"]\n"
     ]
    }
   ],
   "source": [
    "#Sentence tokenizing\n",
    "print(sent_tokenize(example_text))"
   ]
  },
  {
   "cell_type": "code",
   "execution_count": 21,
   "metadata": {
    "collapsed": false
   },
   "outputs": [
    {
     "name": "stdout",
     "output_type": "stream",
     "text": [
      "# 0: Hello Mr. Smith, how are you doing today?\n",
      "# 1: The weather is great, and Python is awesome.\n",
      "# 2: The sky is pinkish-blue.\n",
      "# 3: You shouldn't eat cardboard.\n"
     ]
    }
   ],
   "source": [
    "#Sentence tokenization\n",
    "for i , sentence in enumerate(sent_tokenize(example_text)):\n",
    "    print('# {}: {}'.format(i , sentence))"
   ]
  },
  {
   "cell_type": "code",
   "execution_count": 22,
   "metadata": {
    "collapsed": false
   },
   "outputs": [
    {
     "name": "stdout",
     "output_type": "stream",
     "text": [
      "# 0: Hello\n",
      "# 1: Mr.\n",
      "# 2: Smith\n",
      "# 3: ,\n",
      "# 4: how\n",
      "# 5: are\n",
      "# 6: you\n",
      "# 7: doing\n",
      "# 8: today\n",
      "# 9: ?\n",
      "# 10: The\n",
      "# 11: weather\n",
      "# 12: is\n",
      "# 13: great\n",
      "# 14: ,\n",
      "# 15: and\n",
      "# 16: Python\n",
      "# 17: is\n",
      "# 18: awesome\n",
      "# 19: .\n",
      "# 20: The\n",
      "# 21: sky\n",
      "# 22: is\n",
      "# 23: pinkish-blue\n",
      "# 24: .\n",
      "# 25: You\n",
      "# 26: should\n",
      "# 27: n't\n",
      "# 28: eat\n",
      "# 29: cardboard\n",
      "# 30: .\n"
     ]
    }
   ],
   "source": [
    "#word tokenization\n",
    "for i , sentence in enumerate(word_tokenize(example_text)):\n",
    "    print('# {}: {}'.format(i , sentence))"
   ]
  }
 ],
 "metadata": {
  "kernelspec": {
   "display_name": "Python 3",
   "language": "python",
   "name": "python3"
  },
  "language_info": {
   "codemirror_mode": {
    "name": "ipython",
    "version": 3
   },
   "file_extension": ".py",
   "mimetype": "text/x-python",
   "name": "python",
   "nbconvert_exporter": "python",
   "pygments_lexer": "ipython3",
   "version": "3.6.0"
  }
 },
 "nbformat": 4,
 "nbformat_minor": 2
}
