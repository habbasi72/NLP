{
 "cells": [
  {
   "cell_type": "markdown",
   "metadata": {},
   "source": [
    "<h><b>Regular Expression</b></h>\n",
    "<li>Regular expressions are used to sift through text-based data to find things. Regular expressions express a pattern of data that is to be located. Regex is its own language, and is basically the same no matter what programming language you are using with it.</li>"
   ]
  },
  {
   "cell_type": "code",
   "execution_count": null,
   "metadata": {
    "collapsed": true
   },
   "outputs": [],
   "source": [
    "'''\n",
    "Identifiers:\n",
    "\n",
    "\\d = any number\n",
    "\\D = anything but a number\n",
    "\\s = space\n",
    "\\S = anything but a space\n",
    "\\w = any letter\n",
    "\\W = anything but a letter\n",
    ". = any character, except for a new line\n",
    "\\b = the space around whole words\n",
    "\\. = period. must use backslash, because . normally means any character.\n",
    "'''"
   ]
  },
  {
   "cell_type": "code",
   "execution_count": null,
   "metadata": {
    "collapsed": true
   },
   "outputs": [],
   "source": [
    "\"\"\"\n",
    "Modifiers:\n",
    "\n",
    "{1,3} = for digits, u expect 1-3 counts of digits, or \"places\"\n",
    "+ = match 1 or more\n",
    "? = match 0 or 1 repetitions.\n",
    "* = match 0 or MORE repetitions\n",
    "$ = matches at the end of string\n",
    "^ = matches start of a string\n",
    "| = matches either/or. Example x|y = will match either x or y\n",
    "[] = range, or \"variance\"\n",
    "{x} = expect to see this amount of the preceding code.\n",
    "{x,y} = expect to see this x-y amounts of the precedng code\n",
    "\n",
    "\"\"\""
   ]
  },
  {
   "cell_type": "code",
   "execution_count": null,
   "metadata": {
    "collapsed": true
   },
   "outputs": [],
   "source": [
    "\"\"\"\n",
    "White Space Charts:\n",
    "\n",
    "\\n = new line\n",
    "\\s = space\n",
    "\\t = tab\n",
    "\\e = escape\n",
    "\\f = form feed\n",
    "\\r = carriage return\n",
    "Characters to REMEMBER TO ESCAPE IF USED!\n",
    "\n",
    ". + * ? [ ] $ ^ ( ) { } | \\\n",
    "\"\"\""
   ]
  },
  {
   "cell_type": "code",
   "execution_count": null,
   "metadata": {
    "collapsed": true
   },
   "outputs": [],
   "source": [
    "\"\"\"\n",
    "Brackets:\n",
    "\n",
    "[] = quant[ia]tative = will find either quantitative, or quantatative.\n",
    "[a-z] = return any lowercase letter a-z\n",
    "[1-5a-qA-Z] = return all numbers 1-5, lowercase letters a-q and uppercase A-Z\n",
    "\n",
    "\"\"\"\n",
    "\"\"\""
   ]
  },
  {
   "cell_type": "code",
   "execution_count": 10,
   "metadata": {
    "collapsed": false
   },
   "outputs": [],
   "source": [
    "import re \n",
    "\n",
    "exampleString = '''\n",
    "Jessica is 15 years old, and Daniel is 27 years old.\n",
    "Edward is 97 years old, and his grandfather, Oscar, is 102. \n",
    "'''"
   ]
  },
  {
   "cell_type": "code",
   "execution_count": 13,
   "metadata": {
    "collapsed": false
   },
   "outputs": [
    {
     "name": "stdout",
     "output_type": "stream",
     "text": [
      "['15', '27', '97', '102']\n",
      "['Jessica', 'Daniel', 'Edward', 'Oscar']\n"
     ]
    }
   ],
   "source": [
    "#Find all the numbers that has 1-3 length in , exampleString\n",
    "ages = re.findall(r'\\d{1,3}' , exampleString)\n",
    "\n",
    "#find any capital letter then lower case\n",
    "names = re.findall(r'[A-Z][a-z]*', exampleString)\n",
    "\n",
    "print(ages)\n",
    "print(names)"
   ]
  },
  {
   "cell_type": "code",
   "execution_count": 16,
   "metadata": {
    "collapsed": false
   },
   "outputs": [
    {
     "data": {
      "text/plain": [
       "{'Daniel': '27', 'Edward': '97', 'Jessica': '15', 'Oscar': '102'}"
      ]
     },
     "execution_count": 16,
     "metadata": {},
     "output_type": "execute_result"
    }
   ],
   "source": [
    "#Creating empty dictionay \n",
    "ageDict = {}\n",
    "x = 0\n",
    "for eachName in names :\n",
    "    ageDict[eachName] = ages[x]\n",
    "    x+=1\n",
    "ageDict\n"
   ]
  }
 ],
 "metadata": {
  "kernelspec": {
   "display_name": "Python 3",
   "language": "python",
   "name": "python3"
  },
  "language_info": {
   "codemirror_mode": {
    "name": "ipython",
    "version": 3
   },
   "file_extension": ".py",
   "mimetype": "text/x-python",
   "name": "python",
   "nbconvert_exporter": "python",
   "pygments_lexer": "ipython3",
   "version": "3.6.0"
  }
 },
 "nbformat": 4,
 "nbformat_minor": 2
}
