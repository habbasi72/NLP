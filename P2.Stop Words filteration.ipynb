{
 "cells": [
  {
   "cell_type": "code",
   "execution_count": 1,
   "metadata": {
    "collapsed": false
   },
   "outputs": [
    {
     "name": "stdout",
     "output_type": "stream",
     "text": [
      "first way: ['This', 'example', 'showing', 'stop', 'word', 'filteration', '.'] \n",
      "\n",
      "second way: ['This', 'example', 'showing', 'stop', 'word', 'filteration', '.']\n"
     ]
    }
   ],
   "source": [
    "from nltk.corpus import stopwords\n",
    "from nltk.tokenize import word_tokenize\n",
    "\n",
    "example_setence = \"This is an example showing off stop word filteration.\" \n",
    "\n",
    "#set of predifined english stop words\n",
    "stop_words = set(stopwords.words('english'))\n",
    "\n",
    "#Tokenizing the words from sentence \n",
    "words = word_tokenize(example_setence)\n",
    "\n",
    "#Filtering stop words\n",
    "filtered_sentence = []\n",
    "for w in words:\n",
    "    if w not in stop_words:\n",
    "        filtered_sentence.append(w)               \n",
    "print('first way:' ,filtered_sentence , '\\n')\n",
    "\n",
    "#Second way \n",
    "filtered = [w for w in words if not w in stop_words]\n",
    "print('second way:' , filtered)\n"
   ]
  }
 ],
 "metadata": {
  "kernelspec": {
   "display_name": "Python 3",
   "language": "python",
   "name": "python3"
  },
  "language_info": {
   "codemirror_mode": {
    "name": "ipython",
    "version": 3
   },
   "file_extension": ".py",
   "mimetype": "text/x-python",
   "name": "python",
   "nbconvert_exporter": "python",
   "pygments_lexer": "ipython3",
   "version": "3.6.0"
  }
 },
 "nbformat": 4,
 "nbformat_minor": 2
}
