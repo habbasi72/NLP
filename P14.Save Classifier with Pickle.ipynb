{
 "cells": [
  {
   "cell_type": "code",
   "execution_count": null,
   "metadata": {
    "collapsed": true
   },
   "outputs": [],
   "source": [
    "#Pickle is a way to save ython objects\n",
    "\n",
    "import pickle\n",
    "\n",
    "#after classifier\n",
    "save_classifier = open (\"naivebayes.pickle\" , \"wb\")\n",
    "#where to dump, what to dump\n",
    "pickle.dump(classifier , save_classifier)\n",
    "\n",
    "\n",
    "#load classifier\n",
    "classifier_f = open(\"naivebayes.pickle\" , \"rb\")\n",
    "classifier = pickle.load(classifier_f)\n",
    "classifier_f.close()"
   ]
  }
 ],
 "metadata": {
  "kernelspec": {
   "display_name": "Python 3",
   "language": "python",
   "name": "python3"
  },
  "language_info": {
   "codemirror_mode": {
    "name": "ipython",
    "version": 3
   },
   "file_extension": ".py",
   "mimetype": "text/x-python",
   "name": "python",
   "nbconvert_exporter": "python",
   "pygments_lexer": "ipython3",
   "version": "3.6.0"
  }
 },
 "nbformat": 4,
 "nbformat_minor": 2
}
